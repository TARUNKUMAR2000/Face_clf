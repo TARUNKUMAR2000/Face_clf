{
 "cells": [
  {
   "cell_type": "code",
   "execution_count": 2,
   "id": "perfect-profile",
   "metadata": {},
   "outputs": [],
   "source": [
    "# importing libraries\n",
    "import cv2\n",
    "import numpy as np\n",
    "import os"
   ]
  },
  {
   "cell_type": "code",
   "execution_count": 3,
   "id": "fundamental-organization",
   "metadata": {},
   "outputs": [],
   "source": [
    "### KNN CODE\n",
    "def distance(v1,v2):\n",
    "    # Eucledian\n",
    "    return np.sqrt(((v1-v2)**2).sum())\n",
    "def knn(train,test,k=5):\n",
    "    dist=[]\n",
    "    \n",
    "    for i in range(train.shape[0]):\n",
    "        # taking vector and label\n",
    "        ix = train[i,:-1]\n",
    "        iy = train[i,-1]\n",
    "        # dist from test point\n",
    "        d = distance(test,ix)\n",
    "        dist.append([d,iy])\n",
    "    # sorting based on distance and get top k elements\n",
    "    dk = sorted(dist,key=lambda x:x[0])[:k]\n",
    "    # retrieve labels\n",
    "    labels = np.array(dk)[:,-1]\n",
    "    # freq of each label\n",
    "    output = np.unique(labels,return_counts=True)\n",
    "    # MAX FREQ IS SELECTED\n",
    "    index = np.argmax(output[1])\n",
    "    return output[0][index]\n",
    "##################################"
   ]
  },
  {
   "cell_type": "code",
   "execution_count": 4,
   "id": "assisted-crossing",
   "metadata": {},
   "outputs": [],
   "source": [
    "# pipeline establishment and importing haarcascade\n",
    "cap = cv2.VideoCapture(0)\n",
    "face_cascade = cv2.CascadeClassifier(\"C:/Users/TARUN KUMAR/Downloads/haarcascade_frontalface_alt.xml\")\n",
    "skip = 0\n",
    "\n",
    "face_data = []\n",
    "labels = []\n",
    "\n",
    "dataset_path = 'C:/Users/TARUN KUMAR/OPEN_CV/'\n",
    "class_id = 0\n",
    "names = {}"
   ]
  },
  {
   "cell_type": "code",
   "execution_count": 5,
   "id": "biological-poland",
   "metadata": {},
   "outputs": [
    {
     "name": "stdout",
     "output_type": "stream",
     "text": [
      "Loaded DADy.npy\n",
      "Loaded deepanshi.npy\n",
      "Loaded hajoor ji.npy\n",
      "Loaded hira lal.npy\n",
      "Loaded jay shetty.npy\n",
      "Loaded rishma.npy\n",
      "Loaded tarun.npy\n",
      "(204, 30000)\n",
      "(204, 1)\n",
      "(204, 30001)\n"
     ]
    }
   ],
   "source": [
    "# Data_prepration\n",
    "for fx in os.listdir(dataset_path):\n",
    "    if fx.endswith('.npy'):\n",
    "        names[class_id] = fx[:-4]\n",
    "        print(\"Loaded \"+fx)\n",
    "        data_item = np.load(dataset_path+fx)\n",
    "        face_data.append(data_item)\n",
    "        \n",
    "        # create labels for class\n",
    "        target = class_id*np.ones((data_item.shape[0],))\n",
    "        class_id += 1\n",
    "        labels.append(target)\n",
    "        \n",
    "face_dataset = np.concatenate(face_data,axis=0)\n",
    "face_labels = np.concatenate(labels,axis=0).reshape((-1,1))\n",
    "\n",
    "print(face_dataset.shape)\n",
    "print(face_labels.shape)\n",
    "\n",
    "trainset = np.concatenate((face_dataset,face_labels),axis=1)\n",
    "print(trainset.shape)"
   ]
  },
  {
   "cell_type": "code",
   "execution_count": 7,
   "id": "classified-forward",
   "metadata": {},
   "outputs": [
    {
     "data": {
      "text/plain": [
       "array([[ 79.,  90.,  46., ..., 234., 189.,   0.],\n",
       "       [ 30.,  36.,   0., ..., 206., 163.,   0.],\n",
       "       [  2.,   4.,   0., ..., 193., 171.,   0.],\n",
       "       ...,\n",
       "       [  1.,   4.,   0., ...,   1.,   1.,   6.],\n",
       "       [  3.,  24.,   8., ...,   2.,   2.,   6.],\n",
       "       [ 64., 102.,  85., ...,   1.,   2.,   6.]])"
      ]
     },
     "execution_count": 7,
     "metadata": {},
     "output_type": "execute_result"
    }
   ],
   "source": [
    "# testing\n",
    "type(trainset)\n",
    "trainset\n"
   ]
  },
  {
   "cell_type": "code",
   "execution_count": null,
   "id": "loaded-rings",
   "metadata": {},
   "outputs": [],
   "source": [
    "while True:\n",
    "    ret,frame = cap.read()\n",
    "    if ret == False:\n",
    "        continue\n",
    "    faces = face_cascade.detectMultiScale(frame,1.3,5)\n",
    "    \n",
    "    if len(faces)==0:\n",
    "        continue\n",
    "    \n",
    "    for face in faces:\n",
    "        x,y,w,h = face\n",
    "        # GET THE face ROI\n",
    "        offset = 10\n",
    "        face_section  = frame[y-offset:y+h+offset,x-offset:x+w+offset]\n",
    "        if np.all(np.array(face_section.shape)):\n",
    "            face_section = cv2.resize(face_section,(100,100))\n",
    "            # Predicted Label (out)\n",
    "            out = knn(trainset,face_section.flatten())\n",
    "            # Display on screen\n",
    "            pred_name = names[int(out)]\n",
    "            cv2.putText(frame,pred_name,(x,y-10),cv2.FONT_HERSHEY_SIMPLEX,1,(0,0,255),2,cv2.LINE_AA)\n",
    "            cv2.rectangle(frame,(x,y),(x+w,y+h),(0,255,0),2)\n",
    "    \n",
    "    cv2.imshow(\"FACE CAM\",frame)\n",
    "    key = cv2.waitKey(1) & 0xFF\n",
    "    if key == ord('q'):\n",
    "        break\n",
    "cap.release()\n",
    "cv2.destroyAllWindows()"
   ]
  },
  {
   "cell_type": "code",
   "execution_count": null,
   "id": "atmospheric-seattle",
   "metadata": {},
   "outputs": [],
   "source": []
  },
  {
   "cell_type": "code",
   "execution_count": null,
   "id": "bibliographic-enemy",
   "metadata": {},
   "outputs": [],
   "source": []
  },
  {
   "cell_type": "code",
   "execution_count": null,
   "id": "decimal-column",
   "metadata": {},
   "outputs": [],
   "source": []
  },
  {
   "cell_type": "code",
   "execution_count": null,
   "id": "liberal-celebration",
   "metadata": {},
   "outputs": [],
   "source": []
  },
  {
   "cell_type": "code",
   "execution_count": null,
   "id": "extraordinary-developer",
   "metadata": {},
   "outputs": [],
   "source": []
  },
  {
   "cell_type": "code",
   "execution_count": null,
   "id": "graduate-newfoundland",
   "metadata": {},
   "outputs": [],
   "source": []
  },
  {
   "cell_type": "code",
   "execution_count": null,
   "id": "residential-marshall",
   "metadata": {},
   "outputs": [],
   "source": []
  },
  {
   "cell_type": "code",
   "execution_count": null,
   "id": "loved-forum",
   "metadata": {},
   "outputs": [],
   "source": []
  },
  {
   "cell_type": "code",
   "execution_count": null,
   "id": "competitive-doctrine",
   "metadata": {},
   "outputs": [],
   "source": []
  },
  {
   "cell_type": "code",
   "execution_count": null,
   "id": "lucky-presence",
   "metadata": {},
   "outputs": [],
   "source": []
  },
  {
   "cell_type": "code",
   "execution_count": null,
   "id": "genetic-lightweight",
   "metadata": {},
   "outputs": [],
   "source": []
  },
  {
   "cell_type": "code",
   "execution_count": null,
   "id": "included-japan",
   "metadata": {},
   "outputs": [],
   "source": []
  }
 ],
 "metadata": {
  "kernelspec": {
   "display_name": "Python 3",
   "language": "python",
   "name": "python3"
  },
  "language_info": {
   "codemirror_mode": {
    "name": "ipython",
    "version": 3
   },
   "file_extension": ".py",
   "mimetype": "text/x-python",
   "name": "python",
   "nbconvert_exporter": "python",
   "pygments_lexer": "ipython3",
   "version": "3.7.3"
  }
 },
 "nbformat": 4,
 "nbformat_minor": 5
}
